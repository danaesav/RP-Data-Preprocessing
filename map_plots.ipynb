{
 "cells": [
  {
   "cell_type": "code",
   "execution_count": 40,
   "id": "initial_id",
   "metadata": {
    "collapsed": true,
    "ExecuteTime": {
     "end_time": "2024-05-02T20:29:13.508856Z",
     "start_time": "2024-05-02T20:29:13.503884Z"
    }
   },
   "outputs": [],
   "source": [
    "from tokenize import String\n",
    "import pandas as pd\n",
    "from IPython.core.display_functions import display\n",
    "from msticpy.vis.foliummap import plot_map\n",
    "import folium"
   ]
  },
  {
   "cell_type": "code",
   "outputs": [],
   "source": [
    "icon_map = {\n",
    "    \"default\": {\n",
    "        \"color\": \"blue\",\n",
    "        \"icon\": \"triangle-exclamation\",\n",
    "        \"prefix\": \"fa\",\n",
    "    },\n",
    "}"
   ],
   "metadata": {
    "collapsed": false,
    "ExecuteTime": {
     "end_time": "2024-05-02T20:29:13.806744Z",
     "start_time": "2024-05-02T20:29:13.804203Z"
    }
   },
   "id": "1dbc1041fecd525e",
   "execution_count": 41
  },
  {
   "cell_type": "code",
   "outputs": [],
   "source": [
    "def plot_data(dataset: String):\n",
    "    geo_loc_df = (\n",
    "        pd.read_csv(\"../Datasets/\" + dataset + \"/graph_sensor_locations.csv\", index_col=0)\n",
    "        .dropna(subset=[\"latitude\", \"longitude\"])  # We need to remove any NaN values\n",
    "    )\n",
    "    # geo_loc_df.mp_plot.folium_map(\n",
    "    #     lat_column=\"latitude\", long_column=\"longitude\", zoom_start=10\n",
    "    # )\n",
    "    map2 = plot_map(icon_column=\"sensor_id\", icon_map=icon_map, data=geo_loc_df, lat_column=\"latitude\", long_column=\"longitude\", zoom_start=10)\n",
    "    map2.save(path=\"map.html\")"
   ],
   "metadata": {
    "collapsed": false,
    "ExecuteTime": {
     "end_time": "2024-05-02T20:29:32.452441Z",
     "start_time": "2024-05-02T20:29:32.446658Z"
    }
   },
   "id": "b0e896841775151a",
   "execution_count": 44
  },
  {
   "cell_type": "code",
   "outputs": [
    {
     "ename": "AttributeError",
     "evalue": "'FoliumMap' object has no attribute 'save'",
     "output_type": "error",
     "traceback": [
      "\u001B[0;31m---------------------------------------------------------------------------\u001B[0m",
      "\u001B[0;31mAttributeError\u001B[0m                            Traceback (most recent call last)",
      "Cell \u001B[0;32mIn[45], line 1\u001B[0m\n\u001B[0;32m----> 1\u001B[0m \u001B[43mplot_data\u001B[49m\u001B[43m(\u001B[49m\u001B[38;5;124;43m\"\u001B[39;49m\u001B[38;5;124;43mMETRLA\u001B[39;49m\u001B[38;5;124;43m\"\u001B[39;49m\u001B[43m)\u001B[49m\n",
      "Cell \u001B[0;32mIn[44], line 10\u001B[0m, in \u001B[0;36mplot_data\u001B[0;34m(dataset)\u001B[0m\n\u001B[1;32m      6\u001B[0m \u001B[38;5;66;03m# geo_loc_df.mp_plot.folium_map(\u001B[39;00m\n\u001B[1;32m      7\u001B[0m \u001B[38;5;66;03m#     lat_column=\"latitude\", long_column=\"longitude\", zoom_start=10\u001B[39;00m\n\u001B[1;32m      8\u001B[0m \u001B[38;5;66;03m# )\u001B[39;00m\n\u001B[1;32m      9\u001B[0m map2 \u001B[38;5;241m=\u001B[39m plot_map(icon_column\u001B[38;5;241m=\u001B[39m\u001B[38;5;124m\"\u001B[39m\u001B[38;5;124msensor_id\u001B[39m\u001B[38;5;124m\"\u001B[39m, icon_map\u001B[38;5;241m=\u001B[39micon_map, data\u001B[38;5;241m=\u001B[39mgeo_loc_df, lat_column\u001B[38;5;241m=\u001B[39m\u001B[38;5;124m\"\u001B[39m\u001B[38;5;124mlatitude\u001B[39m\u001B[38;5;124m\"\u001B[39m, long_column\u001B[38;5;241m=\u001B[39m\u001B[38;5;124m\"\u001B[39m\u001B[38;5;124mlongitude\u001B[39m\u001B[38;5;124m\"\u001B[39m, zoom_start\u001B[38;5;241m=\u001B[39m\u001B[38;5;241m10\u001B[39m)\n\u001B[0;32m---> 10\u001B[0m \u001B[43mmap2\u001B[49m\u001B[38;5;241;43m.\u001B[39;49m\u001B[43msave\u001B[49m(path\u001B[38;5;241m=\u001B[39m\u001B[38;5;124m\"\u001B[39m\u001B[38;5;124mmap.html\u001B[39m\u001B[38;5;124m\"\u001B[39m)\n",
      "\u001B[0;31mAttributeError\u001B[0m: 'FoliumMap' object has no attribute 'save'"
     ]
    }
   ],
   "source": [
    "plot_data(\"METRLA\")"
   ],
   "metadata": {
    "collapsed": false,
    "ExecuteTime": {
     "end_time": "2024-05-02T20:29:32.842913Z",
     "start_time": "2024-05-02T20:29:32.787536Z"
    }
   },
   "id": "a562c0f4888be714",
   "execution_count": 45
  },
  {
   "cell_type": "code",
   "outputs": [],
   "source": [],
   "metadata": {
    "collapsed": false
   },
   "id": "5ddc9e8f11697746"
  }
 ],
 "metadata": {
  "kernelspec": {
   "display_name": "Python 3",
   "language": "python",
   "name": "python3"
  },
  "language_info": {
   "codemirror_mode": {
    "name": "ipython",
    "version": 2
   },
   "file_extension": ".py",
   "mimetype": "text/x-python",
   "name": "python",
   "nbconvert_exporter": "python",
   "pygments_lexer": "ipython2",
   "version": "2.7.6"
  }
 },
 "nbformat": 4,
 "nbformat_minor": 5
}
